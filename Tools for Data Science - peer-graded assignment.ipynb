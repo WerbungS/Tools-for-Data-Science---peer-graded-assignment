{
 "cells": [
  {
   "cell_type": "markdown",
   "id": "e2e41743",
   "metadata": {},
   "source": [
    "## Exercise 2 - Create a markdown cell with the title of the noteboo\n",
    "\n",
    "Tools for Data Science - peer-graded assignment"
   ]
  },
  {
   "cell_type": "markdown",
   "id": "8a1520ac",
   "metadata": {},
   "source": [
    "## Exercise 3 - Create a markdown cell for an introduction\n",
    "\n",
    "This is a jupyter notebook containing 12 exercises"
   ]
  },
  {
   "cell_type": "markdown",
   "id": "9aee7e9b",
   "metadata": {},
   "source": [
    "## Exercise 4 - Create a markdown cell to list data science languages\n",
    "\n",
    "list of data science languages:\n",
    "- Python\n",
    "- R \n",
    "- SQL"
   ]
  },
  {
   "cell_type": "markdown",
   "id": "362e4ed6",
   "metadata": {},
   "source": [
    "## Exercise 5 - Create a markdown cell to list data science libraries\n",
    "\n",
    "list of data science libraries (in Python):\n",
    "- SciKit-Learn    \n",
    "- TensorFlow\n",
    "- Keras\n",
    "- PyTorch    \n",
    "- Pandas    \n",
    "- Matplotlib\n",
    "- NumPy\n",
    "    "
   ]
  },
  {
   "cell_type": "markdown",
   "id": "5e57fd9d",
   "metadata": {},
   "source": [
    "## Exercise 6 - Create a markdown cell with a table of Data Science tools\n",
    "\n",
    "| Data science tools:| \n",
    "| :--- |\n",
    "| GitHub | Gaussian |\n",
    "| Jupyter Notebooks | \n",
    "| RStudio           |"
   ]
  },
  {
   "cell_type": "markdown",
   "id": "3f584427",
   "metadata": {},
   "source": [
    "## Exercise 7 - Create a markdown cell introducing arithmetic expression examples\n",
    "\n",
    "The following code cell enables You to add or multiplicate two numbers. Just follow the steps the code cell wants You to do"
   ]
  },
  {
   "cell_type": "code",
   "execution_count": null,
   "id": "9cc8b357",
   "metadata": {},
   "outputs": [],
   "source": [
    "# Exercise 8 - Create a code cell to multiply and add numbers\n",
    "\n",
    "print(\"Please select between addition and multiplication. Press (a) for addition or (m) for multiplication\")\n",
    "yourinput = input(\"\")\n",
    "\n",
    "query = 0\n",
    "while query < 1:\n",
    "    \n",
    "    # Addition\n",
    "    if yourinput == \"a\":\n",
    "        print(\"You have choosen addition\")\n",
    "        print(\"Enter first number\")\n",
    "        firstnumber = input(\"\")\n",
    "        print(\"Enter second number\")\n",
    "        secondnumber = input(\"\")\n",
    "        result = float(firstnumber)+float(secondnumber)\n",
    "        print(\"The result is\", result)\n",
    "        # leave while-loop\n",
    "        query = query + 1\n",
    "        \n",
    "    # Multiplication\n",
    "    elif yourinput == \"m\":\n",
    "        print(\"You have choosen multiplication\")\n",
    "        print(\"Enter first number\")\n",
    "        firstnumber = input(\"\")\n",
    "        print(\"Enter second number\")\n",
    "        secondnumber = input(\"\")\n",
    "        result = float(firstnumber)*float(secondnumber)\n",
    "        print(\"The result is\", result)\n",
    "        # leave while-loop\n",
    "        query = query + 1\n",
    "    \n",
    "    # Wrong entry\n",
    "    else:\n",
    "        print(\"Please select (a) or (m)\")\n",
    "        yourinput = input(\"\")\n"
   ]
  },
  {
   "cell_type": "code",
   "execution_count": 12,
   "id": "1dfaf415",
   "metadata": {},
   "outputs": [
    {
     "name": "stdout",
     "output_type": "stream",
     "text": [
      "Please input the time in minutes\n",
      "60\n",
      "Time in hour 1.0\n"
     ]
    }
   ],
   "source": [
    "# Exercise 9 - Create a code cell to convert minutes to hours.\n",
    "\n",
    "print(\"Please input the time in minutes\")\n",
    "yourinput = input()\n",
    "\n",
    "# test if input is a number or not\n",
    "query = 0\n",
    "while query < 1:\n",
    "    # input is a number\n",
    "    if yourinput.isdigit():\n",
    "        # calculate hour into time and print it\n",
    "        result = float(yourinput)/60\n",
    "        print(\"Time in hour\", result)\n",
    "        # leave loop\n",
    "        query = query + 1\n",
    "    \n",
    "    # input is not a number\n",
    "    else:\n",
    "        print(\"Please select number\")\n",
    "        yourinput = input()\n"
   ]
  },
  {
   "cell_type": "markdown",
   "id": "dfc41a81",
   "metadata": {},
   "source": [
    "# Exercise 10 -Insert a markdown cell to list Objectives\n",
    "\n",
    "- object1 = 10\n",
    "- object2 = 20\n",
    "- object3 = 30\n",
    "\n"
   ]
  },
  {
   "cell_type": "markdown",
   "id": "742da2b3",
   "metadata": {},
   "source": [
    "## Exercise 11 - Create a markdown cell to indicate the Author’s name\n",
    "\n",
    "first name and family name"
   ]
  },
  {
   "cell_type": "markdown",
   "id": "0a5c52e2",
   "metadata": {},
   "source": [
    "## Exercise 12 - Share your notebook through GitHub"
   ]
  },
  {
   "cell_type": "markdown",
   "id": "7b06c055",
   "metadata": {},
   "source": [
    "## Exercise 13 - Take a screenshot of the first page of the notebook"
   ]
  }
 ],
 "metadata": {
  "kernelspec": {
   "display_name": "Python 3",
   "language": "python",
   "name": "python3"
  },
  "language_info": {
   "codemirror_mode": {
    "name": "ipython",
    "version": 3
   },
   "file_extension": ".py",
   "mimetype": "text/x-python",
   "name": "python",
   "nbconvert_exporter": "python",
   "pygments_lexer": "ipython3",
   "version": "3.8.8"
  }
 },
 "nbformat": 4,
 "nbformat_minor": 5
}
